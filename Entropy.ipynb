{
 "cells": [
  {
   "cell_type": "code",
   "execution_count": 1,
   "metadata": {},
   "outputs": [
    {
     "name": "stderr",
     "output_type": "stream",
     "text": [
      "C:\\Users\\essie-adm-qizhu\\AppData\\Roaming\\Python\\Python38\\site-packages\\outdated\\utils.py:14: OutdatedPackageWarning: The package pingouin is out of date. Your version is 0.5.0, the latest is 0.5.1.\n",
      "Set the environment variable OUTDATED_IGNORE=1 to disable these warnings.\n",
      "  return warn(\n"
     ]
    }
   ],
   "source": [
    "import pandas as pd\n",
    "from matplotlib import pyplot\n",
    "import matplotlib.pyplot as plt\n",
    "import pingouin as pg\n",
    "import numpy as np  \n",
    "import matplotlib.patches as mpatches"
   ]
  },
  {
   "cell_type": "markdown",
   "metadata": {},
   "source": [
    "### sample entropy velocity \n"
   ]
  },
  {
   "cell_type": "code",
   "execution_count": null,
   "metadata": {},
   "outputs": [],
   "source": [
    "def TwoGroupBoxPlot(g1,g2,t,yt,ymax,ymin,s4,seg=3,s_tx_h=0.5,lh=1,ll=2.5,figsize=(8,8),Hmax=0):   \n",
    "    all_data = [g1,g2]\n",
    "    labels = ['Human-Like', 'Traditional',]\n",
    "\n",
    "    fig, (ax1)= plt.subplots(nrows=1, ncols=1, figsize=figsize)\n",
    "    size_ax = 16\n",
    "    size_title = 20\n",
    "    size_group = 14\n",
    "\n",
    "    # rectangular box plot\n",
    "    bplot1 = ax1.boxplot(all_data,\n",
    "                        vert=True,  # vertical box alignment\n",
    "                        patch_artist=True,  # fill with color\n",
    "                        labels=labels,\n",
    "                        widths = 0.3,\n",
    "                        # positions = [1,4,7,10],\n",
    "                        showfliers=False, ### ignore outliners\n",
    "                        )  # will be used to label x-ticks\n",
    "    ax1.set_title(t,fontsize=size_title)\n",
    "\n",
    "\n",
    "    colors = [(255/255,178/255,102/255, 1), (102/255, 178/255, 255/255, 1)]\n",
    "   \n",
    "    for patch, color in zip(bplot1['boxes'], colors):\n",
    "        # change outline color\n",
    "        patch.set(color='w', linewidth=1)\n",
    "        # change fill color\n",
    "        patch.set(facecolor =color)\n",
    "\n",
    "    # adding horizontal grid lines\n",
    "    ax1.yaxis.grid(True)\n",
    "    ax1.set_ylim([ymin,ymax])\n",
    "    ax1.set_xlabel(\"Conditions\",fontsize=size_ax)\n",
    "    ax1.set_ylabel(yt,fontsize=size_ax)\n",
    "    # ax1.set_xticks(np.arange(4))\n",
    "    ax1.set_xticklabels(['Human-Like', 'Traditional',],\n",
    "    ha ='center',\n",
    "    fontsize=size_group\n",
    "    )\n",
    "\n",
    "    ## plot significant level\n",
    "    max = Hmax\n",
    "\n",
    "\n",
    "    if(s4):\n",
    "        x1 =1\n",
    "        x2 = 2\n",
    "        y, h, col = max,s_tx_h, 'k'\n",
    "        plt.plot([x1,  x2], [y,  y], lw=1, c=col)\n",
    "        plt.text((x1+x2)*.5, y+h, s4, ha='center', va='bottom', color=col)\n",
    "\n",
    "\n",
    "\n",
    "    plt.show()"
   ]
  },
  {
   "cell_type": "code",
   "execution_count": 20,
   "metadata": {},
   "outputs": [
    {
     "name": "stdout",
     "output_type": "stream",
     "text": [
      "     marker  entropy_pos_X  entropy_vel_X  mean_vel_X  entropy_pos_Y  \\\n",
      "0         0       0.009716       0.235347   -0.000616       0.013878   \n",
      "1         1       0.009511       0.115280   -0.000700       0.007882   \n",
      "2         2       0.017921       0.249274   -0.001219       0.025650   \n",
      "3         3       0.017059       0.199249   -0.001208       0.029427   \n",
      "4         4       0.016004       0.250192   -0.001182       0.019065   \n",
      "..      ...            ...            ...         ...            ...   \n",
      "315      15       0.015539       0.185483    0.000554       0.029714   \n",
      "316      16       0.018429       0.277813    0.000468       0.040322   \n",
      "317      17       0.020788       0.222904    0.000644       0.038093   \n",
      "318      18       0.014486       0.204804    0.000396       0.050602   \n",
      "319      19       0.020614       0.252492    0.000548       0.035319   \n",
      "\n",
      "     entropy_vel_Y    mean_vel_Y  entropy_pos_Z  entropy_vel_Z  mean_vel_Z  \\\n",
      "0         0.244757 -2.203470e-04       0.024146       0.291419    0.000370   \n",
      "1         0.114707 -2.532370e-04       0.010803       0.154489    0.000410   \n",
      "2         0.210656 -4.696780e-04       0.063374       0.380561    0.000659   \n",
      "3         0.185271 -4.728530e-04       0.050527       0.321584    0.000705   \n",
      "4         0.240460 -4.650660e-04       0.061700       0.363345    0.000634   \n",
      "..             ...           ...            ...            ...         ...   \n",
      "315       0.335643 -3.500000e-05       0.040672       0.272063    0.000708   \n",
      "316       0.404245  9.570000e-07       0.046531       0.287647    0.000517   \n",
      "317       0.229866  2.191050e-04       0.058965       0.335275    0.000061   \n",
      "318       0.285534  1.040000e-05       0.058507       0.350203    0.000232   \n",
      "319       0.226068  1.807560e-04       0.042181       0.286419    0.000582   \n",
      "\n",
      "          Groups  trail  subjects  \n",
      "0    traditional      1         1  \n",
      "1    traditional      2         1  \n",
      "2    traditional      3         1  \n",
      "3    traditional      4         1  \n",
      "4    traditional      5         1  \n",
      "..           ...    ...       ...  \n",
      "315   human_like      6        16  \n",
      "316   human_like      7        16  \n",
      "317   human_like      8        16  \n",
      "318   human_like      9        16  \n",
      "319   human_like     10        16  \n",
      "\n",
      "[320 rows x 13 columns]\n"
     ]
    }
   ],
   "source": [
    "### read data from csv \n",
    "entropy = './Entropy/Total_entropy.csv'\n",
    "df_raw = pd.read_csv(entropy)\n",
    "print(df_raw)\n"
   ]
  },
  {
   "cell_type": "code",
   "execution_count": 81,
   "metadata": {},
   "outputs": [
    {
     "data": {
      "text/html": [
       "<div>\n",
       "<style scoped>\n",
       "    .dataframe tbody tr th:only-of-type {\n",
       "        vertical-align: middle;\n",
       "    }\n",
       "\n",
       "    .dataframe tbody tr th {\n",
       "        vertical-align: top;\n",
       "    }\n",
       "\n",
       "    .dataframe thead th {\n",
       "        text-align: right;\n",
       "    }\n",
       "</style>\n",
       "<table border=\"1\" class=\"dataframe\">\n",
       "  <thead>\n",
       "    <tr style=\"text-align: right;\">\n",
       "      <th></th>\n",
       "      <th>Source</th>\n",
       "      <th>ddof1</th>\n",
       "      <th>ddof2</th>\n",
       "      <th>F</th>\n",
       "      <th>p-unc</th>\n",
       "      <th>np2</th>\n",
       "      <th>eps</th>\n",
       "    </tr>\n",
       "  </thead>\n",
       "  <tbody>\n",
       "    <tr>\n",
       "      <th>0</th>\n",
       "      <td>Groups</td>\n",
       "      <td>1</td>\n",
       "      <td>15</td>\n",
       "      <td>3.386</td>\n",
       "      <td>0.086</td>\n",
       "      <td>0.184</td>\n",
       "      <td>1.0</td>\n",
       "    </tr>\n",
       "  </tbody>\n",
       "</table>\n",
       "</div>"
      ],
      "text/plain": [
       "   Source  ddof1  ddof2      F  p-unc    np2  eps\n",
       "0  Groups      1     15  3.386  0.086  0.184  1.0"
      ]
     },
     "execution_count": 81,
     "metadata": {},
     "output_type": "execute_result"
    }
   ],
   "source": [
    "metrix = 'entropy_vel_Y'\n",
    "\n",
    "h = df_raw[df_raw['Groups']=='human_like']\n",
    "t = df_raw[df_raw['Groups']=='traditional']\n",
    "hs = h[metrix]\n",
    "ts = t[metrix]\n",
    "\n",
    "\n",
    "pg.rm_anova(dv=metrix, within='Groups', subject='subjects',\n",
    "                   data=df_raw).round(3)"
   ]
  },
  {
   "cell_type": "code",
   "execution_count": 72,
   "metadata": {},
   "outputs": [
    {
     "data": {
      "text/html": [
       "<div>\n",
       "<style scoped>\n",
       "    .dataframe tbody tr th:only-of-type {\n",
       "        vertical-align: middle;\n",
       "    }\n",
       "\n",
       "    .dataframe tbody tr th {\n",
       "        vertical-align: top;\n",
       "    }\n",
       "\n",
       "    .dataframe thead th {\n",
       "        text-align: right;\n",
       "    }\n",
       "</style>\n",
       "<table border=\"1\" class=\"dataframe\">\n",
       "  <thead>\n",
       "    <tr style=\"text-align: right;\">\n",
       "      <th></th>\n",
       "      <th>W-val</th>\n",
       "      <th>alternative</th>\n",
       "      <th>p-val</th>\n",
       "      <th>RBC</th>\n",
       "      <th>CLES</th>\n",
       "    </tr>\n",
       "  </thead>\n",
       "  <tbody>\n",
       "    <tr>\n",
       "      <th>Wilcoxon</th>\n",
       "      <td>4069.0</td>\n",
       "      <td>two-sided</td>\n",
       "      <td>0.000054</td>\n",
       "      <td>-0.368168</td>\n",
       "      <td>0.401211</td>\n",
       "    </tr>\n",
       "  </tbody>\n",
       "</table>\n",
       "</div>"
      ],
      "text/plain": [
       "           W-val alternative     p-val       RBC      CLES\n",
       "Wilcoxon  4069.0   two-sided  0.000054 -0.368168  0.401211"
      ]
     },
     "execution_count": 72,
     "metadata": {},
     "output_type": "execute_result"
    }
   ],
   "source": [
    "# pg.wilcoxon(x=hs,y=ts)"
   ]
  },
  {
   "cell_type": "code",
   "execution_count": 86,
   "metadata": {},
   "outputs": [
    {
     "data": {
      "image/png": "[encoded data removed]",
      "text/plain": [
       "<Figure size 360x504 with 1 Axes>"
      ]
     },
     "metadata": {
      "needs_background": "light"
     },
     "output_type": "display_data"
    }
   ],
   "source": [
    "\n",
    "TwoGroupBoxPlot(hs,ts,\n",
    "t = 'Velocity Entropy in Y Direction',\n",
    "yt =\"Scale\",\n",
    "figsize=(5,7),\n",
    "ymax =0.7,ymin=0,\n",
    "s4 ='p = 0.086', # h-a\n",
    "ll=3,\n",
    "s_tx_h=0.01,\n",
    "seg =2,\n",
    "Hmax= 0.6\n",
    ")"
   ]
  }
 ],
 "metadata": {
  "interpreter": {
   "hash": "ad2bdc8ecc057115af97d19610ffacc2b4e99fae6737bb82f5d7fb13d2f2c186"
  },
  "kernelspec": {
   "display_name": "Python 3.8.8 ('base')",
   "language": "python",
   "name": "python3"
  },
  "language_info": {
   "codemirror_mode": {
    "name": "ipython",
    "version": 3
   },
   "file_extension": ".py",
   "mimetype": "text/x-python",
   "name": "python",
   "nbconvert_exporter": "python",
   "pygments_lexer": "ipython3",
   "version": "3.8.8"
  },
  "orig_nbformat": 4
 },
 "nbformat": 4,
 "nbformat_minor": 2
}
