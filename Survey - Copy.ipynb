{
 "cells": [
  {
   "cell_type": "code",
   "execution_count": 1,
   "metadata": {},
   "outputs": [],
   "source": [
    "import pandas as pd\n",
    "from matplotlib import pyplot\n",
    "import matplotlib.pyplot as plt\n",
    "import pingouin as pg\n",
    "import numpy as np  \n",
    "import matplotlib.patches as mpatches"
   ]
  },
  {
   "cell_type": "code",
   "execution_count": 2,
   "metadata": {},
   "outputs": [],
   "source": [
    "def GetSum(index,df_g,keys_list):\n",
    "    df = df_g.get_group(keys_list[index])\n",
    "    df['NASA']= df.iloc[:,4]+df.iloc[:,5]+df.iloc[:,6]+df.iloc[:,7]+df.iloc[:,8]+df.iloc[:,9]\n",
    "    return df\n",
    "\n",
    "def CovertdftoTTest(df_zig,condition):\n",
    "    df_tt = pd.DataFrame(columns=['Condition', 'Subject','Score'])\n",
    "    # print(df_zig['NASA'])\n",
    "    df_tt['Score'] = df_zig['NASA'].values\n",
    "    df_tt['Subject'] = df_zig.Subject.values\n",
    "    df_tt['Condition'] = condition\n",
    "    return df_tt"
   ]
  },
  {
   "cell_type": "code",
   "execution_count": 30,
   "metadata": {},
   "outputs": [],
   "source": [
    "def TwoGroupBoxPlot(g1,g2,t,yt,ymax,ymin,s4,seg=3,s_tx_h=0.5,lh=1,ll=2.5,figsize=(8,8),Hmax=0):   \n",
    "    all_data = [g1,g2]\n",
    "    labels = ['Human-Like', 'Traditional',]\n",
    "\n",
    "    fig, (ax1)= plt.subplots(nrows=1, ncols=1, figsize=figsize)\n",
    "    size_ax = 16\n",
    "    size_title = 20\n",
    "    size_group = 14\n",
    "\n",
    "    # rectangular box plot\n",
    "    bplot1 = ax1.boxplot(all_data,\n",
    "                        vert=True,  # vertical box alignment\n",
    "                        patch_artist=True,  # fill with color\n",
    "                        labels=labels,\n",
    "                        widths = 0.3,\n",
    "                        # positions = [1,4,7,10],\n",
    "                        showfliers=False, ### ignore outliners\n",
    "                        )  # will be used to label x-ticks\n",
    "    ax1.set_title(t,fontsize=size_title)\n",
    "\n",
    "\n",
    "    colors = [(255/255,178/255,102/255, 1), (102/255, 178/255, 255/255, 1)]\n",
    "   \n",
    "    for patch, color in zip(bplot1['boxes'], colors):\n",
    "        # change outline color\n",
    "        patch.set(color='w', linewidth=1)\n",
    "        # change fill color\n",
    "        patch.set(facecolor =color)\n",
    "\n",
    "    # adding horizontal grid lines\n",
    "    ax1.yaxis.grid(True)\n",
    "    ax1.set_ylim([ymin,ymax])\n",
    "    ax1.set_xlabel(\"Conditions\",fontsize=size_ax)\n",
    "    ax1.set_ylabel(yt,fontsize=size_ax)\n",
    "    # ax1.set_xticks(np.arange(4))\n",
    "    ax1.set_xticklabels(['Human-Like', 'Traditional',],\n",
    "    ha ='center',\n",
    "    fontsize=size_group\n",
    "    )\n",
    "\n",
    "    ## plot significant level\n",
    "    max = Hmax\n",
    "\n",
    "\n",
    "    if(s4):\n",
    "        x1 =1\n",
    "        x2 = 2\n",
    "        y, h, col = max,s_tx_h, 'k'\n",
    "        plt.plot([x1,  x2], [y,  y], lw=1, c=col)\n",
    "        plt.text((x1+x2)*.5, y+h, s4, ha='center', va='bottom', color=col)\n",
    "\n",
    "\n",
    "\n",
    "    plt.show()"
   ]
  },
  {
   "cell_type": "code",
   "execution_count": 27,
   "metadata": {},
   "outputs": [],
   "source": [
    "def ThreeGroupBoxPlot(h,a,t,yt,ymax,ymin,s4,seg=3,s_tx_h=0.5,lh=1,ll=2.5,figsize=(8,8)):   \n",
    "    all_data = [h,a]\n",
    "    labels = ['Human-Like', 'Traditional',]\n",
    "    labels2 = ['', '','']\n",
    "\n",
    "    fig, (ax1)= plt.subplots(nrows=1, ncols=1, figsize=figsize)\n",
    "    size_ax = 16\n",
    "    size_title = 20\n",
    "    size_group = 14\n",
    "\n",
    "    # rectangular box plot\n",
    "    bplot1 = ax1.boxplot(all_data,\n",
    "                        vert=True,  # vertical box alignment\n",
    "                        patch_artist=True,  # fill with color\n",
    "                        labels=labels,\n",
    "                        widths = 0.2,\n",
    "                        # positions = [1,4,7,10],\n",
    "                        showfliers=False, ### ignore outliners\n",
    "                        )  # will be used to label x-ticks\n",
    "    ax1.set_title(t,fontsize=size_title)\n",
    "\n",
    "\n",
    "    colors = [(255/255,228/255,181/255, 1), (77/255, 175/255, 75/255, 1), (55/255, 126/255, 184/255, 1)]\n",
    "   \n",
    "    for patch, color in zip(bplot1['boxes'], colors):\n",
    "        # change outline color\n",
    "        patch.set(color='w', linewidth=1)\n",
    "        # change fill color\n",
    "        patch.set(facecolor =color)\n",
    "\n",
    "\n",
    "\n",
    "    ### custome legend\n",
    "    trial_1 = mpatches.Patch(color=(153/255, 153/255, 153/255, 1), label='First Trial')\n",
    "    trial_2 = mpatches.Patch(facecolor =(153/255, 153/255, 153/255, 0.5), label='Second Trial',hatch = '/',edgecolor='w',)\n",
    "    # ax1.legend(handles=[trial_1,trial_2], handlelength=ll, handleheight=lh,loc='upper right')\n",
    "    # plt.legend(handles=[trial_1,trial_2],)\n",
    "\n",
    "\n",
    "\n",
    "    # adding horizontal grid lines\n",
    "    ax1.yaxis.grid(True)\n",
    "    ax1.set_ylim([ymin,ymax])\n",
    "    ax1.set_xlabel(\"Conditions\",fontsize=size_ax)\n",
    "    ax1.set_ylabel(yt,fontsize=size_ax)\n",
    "    # ax1.set_xticks(np.arange(4))\n",
    "    ax1.set_xticklabels(['Human-Like', 'Traditional',],\n",
    "    ha ='center',\n",
    "    fontsize=size_group\n",
    "    )\n",
    "\n",
    "    ## plot significant level\n",
    "    max = h.max()\n",
    "    if(h.max()<a.max()):\n",
    "        max = a.max()\n",
    "\n",
    "    if(s4):\n",
    "        x1 =1\n",
    "        x2 = 2\n",
    "        y, h, col = max + seg*2,s_tx_h, 'k'\n",
    "        plt.plot([x1,  x2], [y,  y], lw=1, c=col)\n",
    "        plt.text((x1+x2)*.5, y+h, s4, ha='center', va='bottom', color=col)\n",
    "\n",
    "\n",
    "\n",
    "    plt.show()"
   ]
  },
  {
   "cell_type": "code",
   "execution_count": 4,
   "metadata": {},
   "outputs": [
    {
     "name": "stdout",
     "output_type": "stream",
     "text": [
      "['Human-like IK', 'Traditional IK']\n"
     ]
    }
   ],
   "source": [
    "nasa = './Survey/NASA.csv'\n",
    "df_nasa_all = pd.read_csv(nasa)\n",
    "df_nasa_g_condition = df_nasa_all.groupby('Conditions')\n",
    "keys = df_nasa_g_condition.groups.keys()\n",
    "keys_list = list(keys) # 0 automatic 2 control 4 haptic 6 visual \n",
    "print(keys_list)"
   ]
  },
  {
   "cell_type": "code",
   "execution_count": 5,
   "metadata": {},
   "outputs": [
    {
     "name": "stderr",
     "output_type": "stream",
     "text": [
      "<ipython-input-2-ccc92c8fbc50>:3: SettingWithCopyWarning: \n",
      "A value is trying to be set on a copy of a slice from a DataFrame.\n",
      "Try using .loc[row_indexer,col_indexer] = value instead\n",
      "\n",
      "See the caveats in the documentation: https://pandas.pydata.org/pandas-docs/stable/user_guide/indexing.html#returning-a-view-versus-a-copy\n",
      "  df['NASA']= df.iloc[:,4]+df.iloc[:,5]+df.iloc[:,6]+df.iloc[:,7]+df.iloc[:,8]+df.iloc[:,9]\n",
      "<ipython-input-2-ccc92c8fbc50>:3: SettingWithCopyWarning: \n",
      "A value is trying to be set on a copy of a slice from a DataFrame.\n",
      "Try using .loc[row_indexer,col_indexer] = value instead\n",
      "\n",
      "See the caveats in the documentation: https://pandas.pydata.org/pandas-docs/stable/user_guide/indexing.html#returning-a-view-versus-a-copy\n",
      "  df['NASA']= df.iloc[:,4]+df.iloc[:,5]+df.iloc[:,6]+df.iloc[:,7]+df.iloc[:,8]+df.iloc[:,9]\n",
      "<ipython-input-5-e9db3a57b867>:17: FutureWarning: The frame.append method is deprecated and will be removed from pandas in a future version. Use pandas.concat instead.\n",
      "  df_tt_all =df_tt_all.append([df_human,df_tradition], ignore_index=True)\n"
     ]
    }
   ],
   "source": [
    "df_a1= GetSum(0,df_nasa_g_condition,keys_list)\n",
    "human = df_a1['NASA']\n",
    "\n",
    "\n",
    "df_c1= GetSum(1,df_nasa_g_condition,keys_list)\n",
    "traditional = df_c1['NASA']\n",
    "\n",
    "df_human = CovertdftoTTest(df_a1,'Human')\n",
    "# print(df_human)\n",
    "\n",
    "df_tradition = CovertdftoTTest(df_c1,'Tradition')\n",
    "# print(df_tradition)\n",
    "\n",
    "\n",
    "df_tt_all = pd.DataFrame()\n",
    "\n",
    "df_tt_all =df_tt_all.append([df_human,df_tradition], ignore_index=True)"
   ]
  },
  {
   "cell_type": "code",
   "execution_count": 6,
   "metadata": {},
   "outputs": [
    {
     "data": {
      "text/html": [
       "<div>\n",
       "<style scoped>\n",
       "    .dataframe tbody tr th:only-of-type {\n",
       "        vertical-align: middle;\n",
       "    }\n",
       "\n",
       "    .dataframe tbody tr th {\n",
       "        vertical-align: top;\n",
       "    }\n",
       "\n",
       "    .dataframe thead th {\n",
       "        text-align: right;\n",
       "    }\n",
       "</style>\n",
       "<table border=\"1\" class=\"dataframe\">\n",
       "  <thead>\n",
       "    <tr style=\"text-align: right;\">\n",
       "      <th></th>\n",
       "      <th>Contrast</th>\n",
       "      <th>A</th>\n",
       "      <th>B</th>\n",
       "      <th>Paired</th>\n",
       "      <th>Parametric</th>\n",
       "      <th>W-val</th>\n",
       "      <th>alternative</th>\n",
       "      <th>p-unc</th>\n",
       "      <th>hedges</th>\n",
       "    </tr>\n",
       "  </thead>\n",
       "  <tbody>\n",
       "    <tr>\n",
       "      <th>0</th>\n",
       "      <td>Condition</td>\n",
       "      <td>Human</td>\n",
       "      <td>Tradition</td>\n",
       "      <td>True</td>\n",
       "      <td>False</td>\n",
       "      <td>40.0</td>\n",
       "      <td>two-sided</td>\n",
       "      <td>0.277</td>\n",
       "      <td>-0.444</td>\n",
       "    </tr>\n",
       "  </tbody>\n",
       "</table>\n",
       "</div>"
      ],
      "text/plain": [
       "    Contrast      A          B  Paired  Parametric  W-val alternative  p-unc  \\\n",
       "0  Condition  Human  Tradition    True       False   40.0   two-sided  0.277   \n",
       "\n",
       "   hedges  \n",
       "0  -0.444  "
      ]
     },
     "execution_count": 6,
     "metadata": {},
     "output_type": "execute_result"
    }
   ],
   "source": [
    "pg.pairwise_ttests(dv='Score', within='Condition', subject='Subject',\n",
    "                   data=df_tt_all, parametric=False).round(3)"
   ]
  },
  {
   "cell_type": "markdown",
   "metadata": {},
   "source": [
    "### SART "
   ]
  },
  {
   "cell_type": "code",
   "execution_count": 43,
   "metadata": {},
   "outputs": [
    {
     "name": "stdout",
     "output_type": "stream",
     "text": [
      "['Human-like IK', 'Traditional IK']\n"
     ]
    }
   ],
   "source": [
    "nasa = './Survey/Trust.csv'\n",
    "df_nasa_all = pd.read_csv(nasa)\n",
    "df_nasa_g_condition = df_nasa_all.groupby('Conditions')\n",
    "keys = df_nasa_g_condition.groups.keys()\n",
    "keys_list = list(keys) # 0 automatic 2 control 4 haptic 6 visual \n",
    "print(keys_list)"
   ]
  },
  {
   "cell_type": "code",
   "execution_count": 44,
   "metadata": {},
   "outputs": [
    {
     "name": "stderr",
     "output_type": "stream",
     "text": [
      "<ipython-input-2-ccc92c8fbc50>:3: SettingWithCopyWarning: \n",
      "A value is trying to be set on a copy of a slice from a DataFrame.\n",
      "Try using .loc[row_indexer,col_indexer] = value instead\n",
      "\n",
      "See the caveats in the documentation: https://pandas.pydata.org/pandas-docs/stable/user_guide/indexing.html#returning-a-view-versus-a-copy\n",
      "  df['NASA']= df.iloc[:,4]+df.iloc[:,5]+df.iloc[:,6]+df.iloc[:,7]+df.iloc[:,8]+df.iloc[:,9]\n",
      "<ipython-input-2-ccc92c8fbc50>:3: SettingWithCopyWarning: \n",
      "A value is trying to be set on a copy of a slice from a DataFrame.\n",
      "Try using .loc[row_indexer,col_indexer] = value instead\n",
      "\n",
      "See the caveats in the documentation: https://pandas.pydata.org/pandas-docs/stable/user_guide/indexing.html#returning-a-view-versus-a-copy\n",
      "  df['NASA']= df.iloc[:,4]+df.iloc[:,5]+df.iloc[:,6]+df.iloc[:,7]+df.iloc[:,8]+df.iloc[:,9]\n",
      "<ipython-input-44-e9db3a57b867>:17: FutureWarning: The frame.append method is deprecated and will be removed from pandas in a future version. Use pandas.concat instead.\n",
      "  df_tt_all =df_tt_all.append([df_human,df_tradition], ignore_index=True)\n"
     ]
    }
   ],
   "source": [
    "df_a1= GetSum(0,df_nasa_g_condition,keys_list)\n",
    "human = df_a1['NASA']\n",
    "\n",
    "\n",
    "df_c1= GetSum(1,df_nasa_g_condition,keys_list)\n",
    "traditional = df_c1['NASA']\n",
    "\n",
    "df_human = CovertdftoTTest(df_a1,'Human')\n",
    "# print(df_human)\n",
    "\n",
    "df_tradition = CovertdftoTTest(df_c1,'Tradition')\n",
    "# print(df_tradition)\n",
    "\n",
    "\n",
    "df_tt_all = pd.DataFrame()\n",
    "\n",
    "df_tt_all =df_tt_all.append([df_human,df_tradition], ignore_index=True)"
   ]
  },
  {
   "cell_type": "code",
   "execution_count": 49,
   "metadata": {},
   "outputs": [
    {
     "data": {
      "text/html": [
       "<div>\n",
       "<style scoped>\n",
       "    .dataframe tbody tr th:only-of-type {\n",
       "        vertical-align: middle;\n",
       "    }\n",
       "\n",
       "    .dataframe tbody tr th {\n",
       "        vertical-align: top;\n",
       "    }\n",
       "\n",
       "    .dataframe thead th {\n",
       "        text-align: right;\n",
       "    }\n",
       "</style>\n",
       "<table border=\"1\" class=\"dataframe\">\n",
       "  <thead>\n",
       "    <tr style=\"text-align: right;\">\n",
       "      <th></th>\n",
       "      <th>Source</th>\n",
       "      <th>SS</th>\n",
       "      <th>DF</th>\n",
       "      <th>MS</th>\n",
       "      <th>F</th>\n",
       "      <th>p-unc</th>\n",
       "      <th>ng2</th>\n",
       "      <th>eps</th>\n",
       "    </tr>\n",
       "  </thead>\n",
       "  <tbody>\n",
       "    <tr>\n",
       "      <th>0</th>\n",
       "      <td>Condition</td>\n",
       "      <td>700.833</td>\n",
       "      <td>1</td>\n",
       "      <td>700.833</td>\n",
       "      <td>5.176</td>\n",
       "      <td>0.039</td>\n",
       "      <td>0.11</td>\n",
       "      <td>1.0</td>\n",
       "    </tr>\n",
       "    <tr>\n",
       "      <th>1</th>\n",
       "      <td>Error</td>\n",
       "      <td>1895.667</td>\n",
       "      <td>14</td>\n",
       "      <td>135.405</td>\n",
       "      <td>NaN</td>\n",
       "      <td>NaN</td>\n",
       "      <td>NaN</td>\n",
       "      <td>NaN</td>\n",
       "    </tr>\n",
       "  </tbody>\n",
       "</table>\n",
       "</div>"
      ],
      "text/plain": [
       "      Source        SS  DF       MS      F  p-unc   ng2  eps\n",
       "0  Condition   700.833   1  700.833  5.176  0.039  0.11  1.0\n",
       "1      Error  1895.667  14  135.405    NaN    NaN   NaN  NaN"
      ]
     },
     "execution_count": 49,
     "metadata": {},
     "output_type": "execute_result"
    }
   ],
   "source": [
    "pg.rm_anova(dv='Score', within='Condition',\n",
    "                  subject='Subject', data=df_tt_all, detailed=True,\n",
    "                  effsize=\"ng2\").round(3)"
   ]
  },
  {
   "cell_type": "code",
   "execution_count": 60,
   "metadata": {},
   "outputs": [
    {
     "name": "stderr",
     "output_type": "stream",
     "text": [
      "d:\\apps\\Anaconda\\lib\\site-packages\\scipy\\stats\\_morestats.py:3145: UserWarning: Exact p-value calculation does not work if there are ties. Switching to normal approximation.\n",
      "  warnings.warn(\"Exact p-value calculation does not work if there are \"\n"
     ]
    },
    {
     "data": {
      "text/html": [
       "<div>\n",
       "<style scoped>\n",
       "    .dataframe tbody tr th:only-of-type {\n",
       "        vertical-align: middle;\n",
       "    }\n",
       "\n",
       "    .dataframe tbody tr th {\n",
       "        vertical-align: top;\n",
       "    }\n",
       "\n",
       "    .dataframe thead th {\n",
       "        text-align: right;\n",
       "    }\n",
       "</style>\n",
       "<table border=\"1\" class=\"dataframe\">\n",
       "  <thead>\n",
       "    <tr style=\"text-align: right;\">\n",
       "      <th></th>\n",
       "      <th>Contrast</th>\n",
       "      <th>A</th>\n",
       "      <th>B</th>\n",
       "      <th>Paired</th>\n",
       "      <th>Parametric</th>\n",
       "      <th>W-val</th>\n",
       "      <th>alternative</th>\n",
       "      <th>p-unc</th>\n",
       "      <th>hedges</th>\n",
       "    </tr>\n",
       "  </thead>\n",
       "  <tbody>\n",
       "    <tr>\n",
       "      <th>0</th>\n",
       "      <td>Condition</td>\n",
       "      <td>Human</td>\n",
       "      <td>Tradition</td>\n",
       "      <td>True</td>\n",
       "      <td>False</td>\n",
       "      <td>34.0</td>\n",
       "      <td>two-sided</td>\n",
       "      <td>0.257</td>\n",
       "      <td>0.345</td>\n",
       "    </tr>\n",
       "  </tbody>\n",
       "</table>\n",
       "</div>"
      ],
      "text/plain": [
       "    Contrast      A          B  Paired  Parametric  W-val alternative  p-unc  \\\n",
       "0  Condition  Human  Tradition    True       False   34.0   two-sided  0.257   \n",
       "\n",
       "   hedges  \n",
       "0   0.345  "
      ]
     },
     "execution_count": 60,
     "metadata": {},
     "output_type": "execute_result"
    }
   ],
   "source": [
    "pg.pairwise_ttests(dv='Score', within='Condition', subject='Subject',\n",
    "                   data=df_tt_all, parametric=False).round(3)"
   ]
  },
  {
   "cell_type": "code",
   "execution_count": 53,
   "metadata": {},
   "outputs": [
    {
     "data": {
      "image/png": "[encoded data removed]",
      "text/plain": [
       "<Figure size 432x576 with 1 Axes>"
      ]
     },
     "metadata": {
      "needs_background": "light"
     },
     "output_type": "display_data"
    }
   ],
   "source": [
    "TwoGroupBoxPlot(human,traditional,\n",
    "t = 'Trust',\n",
    "yt =\"Scale\",\n",
    "figsize=(6,8),\n",
    "ymax =65,ymin=0,\n",
    "s4 ='p = 0.039', # h-a\n",
    "ll=3,\n",
    "s_tx_h=0.2,\n",
    "seg =2,\n",
    "Hmax=60\n",
    ")"
   ]
  },
  {
   "cell_type": "code",
   "execution_count": 26,
   "metadata": {},
   "outputs": [
    {
     "data": {
      "image/png": "[encoded data removed]",
      "text/plain": [
       "<Figure size 432x576 with 1 Axes>"
      ]
     },
     "metadata": {
      "needs_background": "light"
     },
     "output_type": "display_data"
    }
   ],
   "source": [
    "\n",
    "ThreeGroupBoxPlot(human,traditional,\n",
    "t = 'NASA TLX',\n",
    "yt =\"Scale\",\n",
    "figsize=(6,8),\n",
    "ymax =55,ymin=0,\n",
    "s4 ='N', # h-a\n",
    "ll=3,\n",
    "s_tx_h=0.1,\n",
    "seg =2,\n",
    ")"
   ]
  },
  {
   "cell_type": "markdown",
   "metadata": {},
   "source": [
    "### Trust "
   ]
  }
 ],
 "metadata": {
  "interpreter": {
   "hash": "615c4b963a81d66275fa0795ed6f15b0a3806b3c98ece6c8f452db7f4fb781a4"
  },
  "kernelspec": {
   "display_name": "Python 3.8.5 ('base')",
   "language": "python",
   "name": "python3"
  },
  "language_info": {
   "codemirror_mode": {
    "name": "ipython",
    "version": 3
   },
   "file_extension": ".py",
   "mimetype": "text/x-python",
   "name": "python",
   "nbconvert_exporter": "python",
   "pygments_lexer": "ipython3",
   "version": "3.8.5"
  },
  "orig_nbformat": 4
 },
 "nbformat": 4,
 "nbformat_minor": 2
}
